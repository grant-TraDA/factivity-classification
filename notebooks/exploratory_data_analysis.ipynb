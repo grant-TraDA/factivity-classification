{
 "cells": [
  {
   "cell_type": "markdown",
   "id": "aa63053a-d14e-4505-97f9-29b9eef2680f",
   "metadata": {},
   "source": [
    "## Exploratory Data Analysis\n",
    "\n",
    "Below you can find statics of dataset."
   ]
  },
  {
   "cell_type": "code",
   "execution_count": 1,
   "id": "9ec0e775-feb2-4c8b-b485-b73f4653a31b",
   "metadata": {},
   "outputs": [],
   "source": [
    "import pandas as pd"
   ]
  },
  {
   "cell_type": "code",
   "execution_count": 2,
   "id": "42289489-b326-40b3-91f0-0422b71a35e3",
   "metadata": {},
   "outputs": [],
   "source": [
    "df = pd.read_excel(\"../data/ZBIOR_17.10.2021.xlsx\", engine='openpyxl', na_values=['brak'])"
   ]
  },
  {
   "cell_type": "code",
   "execution_count": 3,
   "id": "25b70f60-518c-4fdf-830f-86af7fadd925",
   "metadata": {},
   "outputs": [
    {
     "name": "stdout",
     "output_type": "stream",
     "text": [
      "Shape before filtering (2478, 53)\n",
      "Shape after filtering (2432, 53)\n"
     ]
    }
   ],
   "source": [
    "df = df.dropna(how='all', axis=0)\n",
    "print(f\"Shape before filtering {df.shape}\")\n",
    "df = df[df['GOLD <T,H>'].isin(['C', 'E', 'N'])]\n",
    "df = df[df['verb - factive/nonfactive'].isin(['NF', 'F'])]\n",
    "print(f\"Shape after filtering {df.shape}\")"
   ]
  },
  {
   "cell_type": "code",
   "execution_count": 4,
   "id": "8054e102-4aa1-41e6-a2a9-d77bb5b0b188",
   "metadata": {},
   "outputs": [
    {
     "data": {
      "text/plain": [
       "N    1501\n",
       "E     824\n",
       "C     107\n",
       "Name: GOLD <T,H>, dtype: int64"
      ]
     },
     "execution_count": 4,
     "metadata": {},
     "output_type": "execute_result"
    }
   ],
   "source": [
    "df['GOLD <T,H>'].value_counts(dropna=False)"
   ]
  },
  {
   "cell_type": "code",
   "execution_count": 5,
   "id": "4cb00b8f-1e7b-4971-9384-a7e033ba1d18",
   "metadata": {},
   "outputs": [
    {
     "data": {
      "text/plain": [
       "N    0.617188\n",
       "E    0.338816\n",
       "C    0.043997\n",
       "Name: GOLD <T,H>, dtype: float64"
      ]
     },
     "execution_count": 5,
     "metadata": {},
     "output_type": "execute_result"
    }
   ],
   "source": [
    "df['GOLD <T,H>'].value_counts(dropna=False)/len(df['GOLD <T,H>'])"
   ]
  },
  {
   "cell_type": "code",
   "execution_count": 6,
   "id": "d250f72c-8009-4eb0-9f54-d9a194d77cd5",
   "metadata": {},
   "outputs": [
    {
     "data": {
      "text/plain": [
       "NF    0.750411\n",
       "F     0.249589\n",
       "Name: verb - factive/nonfactive, dtype: float64"
      ]
     },
     "execution_count": 6,
     "metadata": {},
     "output_type": "execute_result"
    }
   ],
   "source": [
    "df['verb - factive/nonfactive'].value_counts(dropna=False)/len(df)"
   ]
  },
  {
   "cell_type": "code",
   "execution_count": 7,
   "id": "17208844-5618-46aa-94f0-06a0cf2f76b4",
   "metadata": {},
   "outputs": [
    {
     "data": {
      "text/plain": [
       "present    0.522204\n",
       "past       0.361842\n",
       "NaN        0.085115\n",
       "future     0.030839\n",
       "Name: verb - tense, dtype: float64"
      ]
     },
     "execution_count": 7,
     "metadata": {},
     "output_type": "execute_result"
    }
   ],
   "source": [
    "df['verb - tense'].value_counts(dropna=False)/len(df)"
   ]
  },
  {
   "cell_type": "code",
   "execution_count": 8,
   "id": "10582dd1-b6c2-480f-96c1-404d4743fd5c",
   "metadata": {},
   "outputs": [
    {
     "data": {
      "text/plain": [
       "indywidualne      0.901727\n",
       "performatyw       0.024260\n",
       "reguła            0.022204\n",
       "pytajne           0.019737\n",
       "imperatyw         0.019326\n",
       "kontrfaktyczne    0.006579\n",
       "warunkowe         0.006168\n",
       "Name: T - type of sentence, dtype: float64"
      ]
     },
     "execution_count": 8,
     "metadata": {},
     "output_type": "execute_result"
    }
   ],
   "source": [
    "df['T - type of sentence'].value_counts(dropna=False)/len(df)"
   ]
  },
  {
   "cell_type": "code",
   "execution_count": 9,
   "id": "2898814a-9d14-4f0c-af49-8c8e8a9d3f9f",
   "metadata": {},
   "outputs": [
    {
     "data": {
      "text/plain": [
       "epistemiczny    0.518503\n",
       "mówienia        0.380345\n",
       "inne            0.069079\n",
       "percepcyjny     0.018092\n",
       "emotywny        0.013980\n",
       "Name: verb - main semantic class, dtype: float64"
      ]
     },
     "execution_count": 9,
     "metadata": {},
     "output_type": "execute_result"
    }
   ],
   "source": [
    "df['verb - main semantic class'].value_counts(dropna=False)/len(df)"
   ]
  },
  {
   "cell_type": "code",
   "execution_count": 10,
   "id": "cb75f4af-8e2f-4a38-ba65-db0e9adb959f",
   "metadata": {},
   "outputs": [
    {
     "data": {
      "text/plain": [
       "0.0    0.949836\n",
       "1.0    0.049342\n",
       "NaN    0.000822\n",
       "Name: T - negation, dtype: float64"
      ]
     },
     "execution_count": 10,
     "metadata": {},
     "output_type": "execute_result"
    }
   ],
   "source": [
    "df['T - negation'].value_counts(dropna=False)/len(df)"
   ]
  },
  {
   "cell_type": "code",
   "execution_count": 11,
   "id": "0a78c214-60f4-4c23-a975-65b1a4d45b0d",
   "metadata": {},
   "outputs": [
    {
     "data": {
      "text/plain": [
       "present    0.489720\n",
       "past       0.232319\n",
       "future     0.147615\n",
       "inne       0.129523\n",
       "NaN        0.000822\n",
       "Name: complement - tense, dtype: float64"
      ]
     },
     "execution_count": 11,
     "metadata": {},
     "output_type": "execute_result"
    }
   ],
   "source": [
    "df['complement - tense'].value_counts(dropna=False)/len(df)"
   ]
  },
  {
   "cell_type": "code",
   "execution_count": null,
   "id": "605e039e-cc67-4d46-aea3-eb97763a1f20",
   "metadata": {},
   "outputs": [],
   "source": []
  }
 ],
 "metadata": {
  "kernelspec": {
   "display_name": "Python 3 (ipykernel)",
   "language": "python",
   "name": "python3"
  },
  "language_info": {
   "codemirror_mode": {
    "name": "ipython",
    "version": 3
   },
   "file_extension": ".py",
   "mimetype": "text/x-python",
   "name": "python",
   "nbconvert_exporter": "python",
   "pygments_lexer": "ipython3",
   "version": "3.8.5"
  }
 },
 "nbformat": 4,
 "nbformat_minor": 5
}
